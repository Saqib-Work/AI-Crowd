{
 "cells": [
  {
   "cell_type": "markdown",
   "metadata": {},
   "source": [
    "<h1 style=\"font-size:2.1em;\n",
    "           font-family: Calibri\n",
    "           padding: 20px;\n",
    "           margin: 20px;\n",
    "           height: 100px;\n",
    "           line-height: 100px;\n",
    "           align-items: center;\n",
    "           text-align: center;\n",
    "           border: 3px solid #006400;\n",
    "           background-color: #f1f1f1;\n",
    "           \"> Basic Model For AI Crowd Project</h1>\n"
   ]
  },
  {
   "cell_type": "code",
   "execution_count": 1,
   "metadata": {},
   "outputs": [],
   "source": [
    "# Standard Python Packages\n",
    "import pandas as pd\n",
    "import numpy as np\n",
    "import os\n",
    "import seaborn as sns\n",
    "\n",
    "from matplotlib import pyplot as plt\n",
    "# Imports for Splitting\n",
    "from sklearn.model_selection import train_test_split\n",
    "# Imports for Modelling\n",
    "from sklearn.neighbors import KNeighborsClassifier\n",
    "from sklearn.linear_model import LinearRegression, LogisticRegression\n",
    "# Imports for Evaluation\n",
    "from sklearn.metrics import mean_squared_error, r2_score"
   ]
  },
  {
   "cell_type": "code",
   "execution_count": 2,
   "metadata": {},
   "outputs": [],
   "source": [
    "DataDir = r\"\\\\WorkDocs\\s.Khanbhai-staysurefiles\\Shared With Me\\Gibraltar\\OTHER\\AI Crowd Competition\\Data\""
   ]
  },
  {
   "cell_type": "code",
   "execution_count": 3,
   "metadata": {},
   "outputs": [
    {
     "data": {
      "text/html": [
       "<div>\n",
       "<style scoped>\n",
       "    .dataframe tbody tr th:only-of-type {\n",
       "        vertical-align: middle;\n",
       "    }\n",
       "\n",
       "    .dataframe tbody tr th {\n",
       "        vertical-align: top;\n",
       "    }\n",
       "\n",
       "    .dataframe thead th {\n",
       "        text-align: right;\n",
       "    }\n",
       "</style>\n",
       "<table border=\"1\" class=\"dataframe\">\n",
       "  <thead>\n",
       "    <tr style=\"text-align: right;\">\n",
       "      <th></th>\n",
       "      <th>id_policy</th>\n",
       "      <th>year</th>\n",
       "      <th>pol_no_claims_discount</th>\n",
       "      <th>pol_coverage</th>\n",
       "      <th>pol_duration</th>\n",
       "      <th>pol_sit_duration</th>\n",
       "      <th>pol_pay_freq</th>\n",
       "      <th>pol_payd</th>\n",
       "      <th>pol_usage</th>\n",
       "      <th>drv_sex1</th>\n",
       "      <th>...</th>\n",
       "      <th>vh_make_model</th>\n",
       "      <th>vh_age</th>\n",
       "      <th>vh_fuel</th>\n",
       "      <th>vh_type</th>\n",
       "      <th>vh_speed</th>\n",
       "      <th>vh_value</th>\n",
       "      <th>vh_weight</th>\n",
       "      <th>population</th>\n",
       "      <th>town_surface_area</th>\n",
       "      <th>claim_amount</th>\n",
       "    </tr>\n",
       "  </thead>\n",
       "  <tbody>\n",
       "    <tr>\n",
       "      <th>0</th>\n",
       "      <td>PL000000</td>\n",
       "      <td>1.0</td>\n",
       "      <td>0.332</td>\n",
       "      <td>Med2</td>\n",
       "      <td>5</td>\n",
       "      <td>1</td>\n",
       "      <td>Monthly</td>\n",
       "      <td>No</td>\n",
       "      <td>WorkPrivate</td>\n",
       "      <td>M</td>\n",
       "      <td>...</td>\n",
       "      <td>aparvvfowrjncdhp</td>\n",
       "      <td>8.0</td>\n",
       "      <td>Gasoline</td>\n",
       "      <td>Tourism</td>\n",
       "      <td>174.0</td>\n",
       "      <td>11040.0</td>\n",
       "      <td>1143.0</td>\n",
       "      <td>1270.0</td>\n",
       "      <td>33.1</td>\n",
       "      <td>0.0</td>\n",
       "    </tr>\n",
       "    <tr>\n",
       "      <th>1</th>\n",
       "      <td>PL042495</td>\n",
       "      <td>1.0</td>\n",
       "      <td>0.000</td>\n",
       "      <td>Med2</td>\n",
       "      <td>6</td>\n",
       "      <td>1</td>\n",
       "      <td>Monthly</td>\n",
       "      <td>No</td>\n",
       "      <td>WorkPrivate</td>\n",
       "      <td>M</td>\n",
       "      <td>...</td>\n",
       "      <td>aparvvfowrjncdhp</td>\n",
       "      <td>10.0</td>\n",
       "      <td>Diesel</td>\n",
       "      <td>Tourism</td>\n",
       "      <td>174.0</td>\n",
       "      <td>11040.0</td>\n",
       "      <td>1143.0</td>\n",
       "      <td>1290.0</td>\n",
       "      <td>51.3</td>\n",
       "      <td>0.0</td>\n",
       "    </tr>\n",
       "    <tr>\n",
       "      <th>2</th>\n",
       "      <td>PL042496</td>\n",
       "      <td>1.0</td>\n",
       "      <td>0.196</td>\n",
       "      <td>Med1</td>\n",
       "      <td>2</td>\n",
       "      <td>1</td>\n",
       "      <td>Yearly</td>\n",
       "      <td>Yes</td>\n",
       "      <td>Retired</td>\n",
       "      <td>M</td>\n",
       "      <td>...</td>\n",
       "      <td>iwhqpdfuhrsxyqxe</td>\n",
       "      <td>8.0</td>\n",
       "      <td>Diesel</td>\n",
       "      <td>Commercial</td>\n",
       "      <td>150.0</td>\n",
       "      <td>14159.0</td>\n",
       "      <td>1193.0</td>\n",
       "      <td>1020.0</td>\n",
       "      <td>262.8</td>\n",
       "      <td>0.0</td>\n",
       "    </tr>\n",
       "    <tr>\n",
       "      <th>3</th>\n",
       "      <td>PL042498</td>\n",
       "      <td>1.0</td>\n",
       "      <td>0.000</td>\n",
       "      <td>Med1</td>\n",
       "      <td>2</td>\n",
       "      <td>2</td>\n",
       "      <td>Yearly</td>\n",
       "      <td>No</td>\n",
       "      <td>Retired</td>\n",
       "      <td>F</td>\n",
       "      <td>...</td>\n",
       "      <td>tdgkjlphosocwbgu</td>\n",
       "      <td>13.0</td>\n",
       "      <td>Gasoline</td>\n",
       "      <td>Tourism</td>\n",
       "      <td>200.0</td>\n",
       "      <td>19422.0</td>\n",
       "      <td>1315.0</td>\n",
       "      <td>30.0</td>\n",
       "      <td>70.3</td>\n",
       "      <td>0.0</td>\n",
       "    </tr>\n",
       "    <tr>\n",
       "      <th>4</th>\n",
       "      <td>PL042506</td>\n",
       "      <td>1.0</td>\n",
       "      <td>0.000</td>\n",
       "      <td>Max</td>\n",
       "      <td>4</td>\n",
       "      <td>2</td>\n",
       "      <td>Monthly</td>\n",
       "      <td>No</td>\n",
       "      <td>WorkPrivate</td>\n",
       "      <td>F</td>\n",
       "      <td>...</td>\n",
       "      <td>dpcnodgqfivkhxvn</td>\n",
       "      <td>28.0</td>\n",
       "      <td>Diesel</td>\n",
       "      <td>Tourism</td>\n",
       "      <td>173.0</td>\n",
       "      <td>13952.0</td>\n",
       "      <td>1112.0</td>\n",
       "      <td>1760.0</td>\n",
       "      <td>103.4</td>\n",
       "      <td>0.0</td>\n",
       "    </tr>\n",
       "  </tbody>\n",
       "</table>\n",
       "<p>5 rows × 26 columns</p>\n",
       "</div>"
      ],
      "text/plain": [
       "  id_policy  year  pol_no_claims_discount pol_coverage  pol_duration  \\\n",
       "0  PL000000   1.0                   0.332         Med2             5   \n",
       "1  PL042495   1.0                   0.000         Med2             6   \n",
       "2  PL042496   1.0                   0.196         Med1             2   \n",
       "3  PL042498   1.0                   0.000         Med1             2   \n",
       "4  PL042506   1.0                   0.000          Max             4   \n",
       "\n",
       "   pol_sit_duration pol_pay_freq pol_payd    pol_usage drv_sex1  ...  \\\n",
       "0                 1      Monthly       No  WorkPrivate        M  ...   \n",
       "1                 1      Monthly       No  WorkPrivate        M  ...   \n",
       "2                 1       Yearly      Yes      Retired        M  ...   \n",
       "3                 2       Yearly       No      Retired        F  ...   \n",
       "4                 2      Monthly       No  WorkPrivate        F  ...   \n",
       "\n",
       "      vh_make_model  vh_age   vh_fuel     vh_type  vh_speed  vh_value  \\\n",
       "0  aparvvfowrjncdhp     8.0  Gasoline     Tourism     174.0   11040.0   \n",
       "1  aparvvfowrjncdhp    10.0    Diesel     Tourism     174.0   11040.0   \n",
       "2  iwhqpdfuhrsxyqxe     8.0    Diesel  Commercial     150.0   14159.0   \n",
       "3  tdgkjlphosocwbgu    13.0  Gasoline     Tourism     200.0   19422.0   \n",
       "4  dpcnodgqfivkhxvn    28.0    Diesel     Tourism     173.0   13952.0   \n",
       "\n",
       "  vh_weight  population town_surface_area claim_amount  \n",
       "0    1143.0      1270.0              33.1          0.0  \n",
       "1    1143.0      1290.0              51.3          0.0  \n",
       "2    1193.0      1020.0             262.8          0.0  \n",
       "3    1315.0        30.0              70.3          0.0  \n",
       "4    1112.0      1760.0             103.4          0.0  \n",
       "\n",
       "[5 rows x 26 columns]"
      ]
     },
     "execution_count": 3,
     "metadata": {},
     "output_type": "execute_result"
    }
   ],
   "source": [
    "Data = pd.read_csv(os.path.join(DataDir,'MiCorp_Training.csv'))\n",
    "Data.head()"
   ]
  },
  {
   "cell_type": "markdown",
   "metadata": {},
   "source": [
    "<h1 style=\"font-size:1.5em;\n",
    "           font-family: Calibri\n",
    "           padding: 20px;\n",
    "           margin: 20px;\n",
    "           height: 100px;\n",
    "           line-height: 100px;\n",
    "           align-items: center;\n",
    "           text-align: center;\n",
    "           border: 3px solid #006400;\n",
    "           background-color: #f1f1f1;\n",
    "           \"> Predicting Claim Frequency</h1>"
   ]
  },
  {
   "cell_type": "markdown",
   "metadata": {},
   "source": [
    "### Feature Creation"
   ]
  },
  {
   "cell_type": "code",
   "execution_count": 4,
   "metadata": {},
   "outputs": [
    {
     "data": {
      "text/plain": [
       "year                      float64\n",
       "pol_no_claims_discount    float64\n",
       "pol_duration                int64\n",
       "pol_sit_duration            int64\n",
       "drv_age1                  float64\n",
       "drv_age_lic1              float64\n",
       "drv_age2                  float64\n",
       "drv_age_lic2              float64\n",
       "vh_age                    float64\n",
       "vh_speed                  float64\n",
       "vh_value                  float64\n",
       "vh_weight                 float64\n",
       "population                float64\n",
       "town_surface_area         float64\n",
       "claim_amount              float64\n",
       "dtype: object"
      ]
     },
     "execution_count": 4,
     "metadata": {},
     "output_type": "execute_result"
    }
   ],
   "source": [
    "Numeric = Data.select_dtypes(exclude=['object'])\n",
    "Numeric.dtypes"
   ]
  },
  {
   "cell_type": "code",
   "execution_count": 5,
   "metadata": {},
   "outputs": [],
   "source": [
    "Data['claim_occur'] = np.where(Data['claim_amount']>0,1,0)"
   ]
  },
  {
   "cell_type": "code",
   "execution_count": 6,
   "metadata": {},
   "outputs": [
    {
     "data": {
      "text/plain": [
       "['id_policy',\n",
       " 'year',\n",
       " 'pol_no_claims_discount',\n",
       " 'pol_coverage',\n",
       " 'pol_duration',\n",
       " 'pol_sit_duration',\n",
       " 'pol_pay_freq',\n",
       " 'pol_payd',\n",
       " 'pol_usage',\n",
       " 'drv_sex1',\n",
       " 'drv_age1',\n",
       " 'drv_age_lic1',\n",
       " 'drv_drv2',\n",
       " 'drv_sex2',\n",
       " 'drv_age2',\n",
       " 'drv_age_lic2',\n",
       " 'vh_make_model',\n",
       " 'vh_age',\n",
       " 'vh_fuel',\n",
       " 'vh_type',\n",
       " 'vh_speed',\n",
       " 'vh_value',\n",
       " 'vh_weight',\n",
       " 'population',\n",
       " 'town_surface_area']"
      ]
     },
     "execution_count": 6,
     "metadata": {},
     "output_type": "execute_result"
    }
   ],
   "source": [
    "[x for x in Data.columns if x != 'claim_amount' and x != 'claim_occur']"
   ]
  },
  {
   "cell_type": "markdown",
   "metadata": {},
   "source": [
    "### Look At The Missing"
   ]
  },
  {
   "cell_type": "code",
   "execution_count": 7,
   "metadata": {},
   "outputs": [
    {
     "name": "stdout",
     "output_type": "stream",
     "text": [
      "<class 'pandas.core.frame.DataFrame'>\n",
      "RangeIndex: 159444 entries, 0 to 159443\n",
      "Data columns (total 15 columns):\n",
      "year                      159444 non-null float64\n",
      "pol_no_claims_discount    159444 non-null float64\n",
      "pol_duration              159444 non-null int64\n",
      "pol_sit_duration          159444 non-null int64\n",
      "drv_age1                  159444 non-null float64\n",
      "drv_age_lic1              159444 non-null float64\n",
      "drv_age2                  52260 non-null float64\n",
      "drv_age_lic2              52260 non-null float64\n",
      "vh_age                    159440 non-null float64\n",
      "vh_speed                  157564 non-null float64\n",
      "vh_value                  157564 non-null float64\n",
      "vh_weight                 157564 non-null float64\n",
      "population                159444 non-null float64\n",
      "town_surface_area         159444 non-null float64\n",
      "claim_amount              159444 non-null float64\n",
      "dtypes: float64(13), int64(2)\n",
      "memory usage: 18.2 MB\n"
     ]
    }
   ],
   "source": [
    "Numeric.info()"
   ]
  },
  {
   "cell_type": "code",
   "execution_count": 8,
   "metadata": {},
   "outputs": [],
   "source": [
    "X = Numeric[[x for x in Numeric.columns \n",
    "                                        # Remove Dependent variables\n",
    "                                         if x != 'claim_amount' \n",
    "                                         and x != 'claim_occur'\n",
    "                                        # Remove Where many missings\n",
    "                                         and x != 'drv_age2'\n",
    "                                         and x != 'drv_age_lic2'\n",
    "                                                              ]]"
   ]
  },
  {
   "cell_type": "code",
   "execution_count": 9,
   "metadata": {},
   "outputs": [
    {
     "data": {
      "image/png": "[encoded data removed]",
      "text/plain": [
       "<Figure size 1440x576 with 1 Axes>"
      ]
     },
     "metadata": {},
     "output_type": "display_data"
    }
   ],
   "source": [
    "sns.set(rc={'figure.figsize':(20,8)})\n",
    "sns.heatmap(X.isnull(), cbar=False).set_title('Plot of where the missing data Is', fontsize=\"24\");"
   ]
  },
  {
   "cell_type": "markdown",
   "metadata": {},
   "source": [
    "### Train-test Split"
   ]
  },
  {
   "cell_type": "code",
   "execution_count": 10,
   "metadata": {},
   "outputs": [
    {
     "name": "stderr",
     "output_type": "stream",
     "text": [
      "C:\\Users\\s.khanbhai\\AppData\\Local\\Continuum\\anaconda3\\lib\\site-packages\\pandas\\core\\generic.py:6130: SettingWithCopyWarning: \n",
      "A value is trying to be set on a copy of a slice from a DataFrame\n",
      "\n",
      "See the caveats in the documentation: http://pandas.pydata.org/pandas-docs/stable/indexing.html#indexing-view-versus-copy\n",
      "  self._update_inplace(new_data)\n"
     ]
    }
   ],
   "source": [
    "# Fill missings with the mean\n",
    "X['vh_speed'].fillna((X['vh_speed'].mean()),inplace=True)\n",
    "X['vh_value'].fillna((X['vh_value'].mean()),inplace=True)\n",
    "X['vh_weight'].fillna((X['vh_weight'].mean()),inplace=True)\n",
    "X['vh_age'].fillna((X['vh_age'].mean()),inplace=True)\n",
    "y = Data[['claim_occur']]\n",
    "\n",
    "X_train, X_test, y_train, y_test = train_test_split(X,y, test_size = 0.3, random_state=42)"
   ]
  },
  {
   "cell_type": "code",
   "execution_count": 11,
   "metadata": {},
   "outputs": [
    {
     "data": {
      "text/plain": [
       "year                      0\n",
       "pol_no_claims_discount    0\n",
       "pol_duration              0\n",
       "pol_sit_duration          0\n",
       "drv_age1                  0\n",
       "drv_age_lic1              0\n",
       "vh_age                    0\n",
       "vh_speed                  0\n",
       "vh_value                  0\n",
       "vh_weight                 0\n",
       "population                0\n",
       "town_surface_area         0\n",
       "dtype: int64"
      ]
     },
     "execution_count": 11,
     "metadata": {},
     "output_type": "execute_result"
    }
   ],
   "source": [
    "X.isna().sum()"
   ]
  },
  {
   "cell_type": "code",
   "execution_count": 12,
   "metadata": {},
   "outputs": [
    {
     "name": "stderr",
     "output_type": "stream",
     "text": [
      "C:\\Users\\s.khanbhai\\AppData\\Local\\Continuum\\anaconda3\\lib\\site-packages\\ipykernel_launcher.py:2: DataConversionWarning: A column-vector y was passed when a 1d array was expected. Please change the shape of y to (n_samples, ), for example using ravel().\n",
      "  \n"
     ]
    }
   ],
   "source": [
    "knn = KNeighborsClassifier(n_neighbors=1, weights='distance')\n",
    "knn.fit(X_train, y_train)\n",
    "preds = knn.predict(X_test)"
   ]
  },
  {
   "cell_type": "code",
   "execution_count": 13,
   "metadata": {},
   "outputs": [
    {
     "name": "stdout",
     "output_type": "stream",
     "text": [
      "Accuracy Training 1.0\n",
      "Accuracy Test 0.8257097462056278\n"
     ]
    }
   ],
   "source": [
    "print(f\"Accuracy Training {knn.score(X_train, y_train)}\")\n",
    "print(f\"Accuracy Test {knn.score(X_test, y_test)}\")"
   ]
  },
  {
   "cell_type": "code",
   "execution_count": 14,
   "metadata": {},
   "outputs": [
    {
     "name": "stdout",
     "output_type": "stream",
     "text": [
      "Accuracy (manually calculated) on the Test Set: 82.6%\n"
     ]
    }
   ],
   "source": [
    "y_test_arr = np.array([x[0] for x in y_test.values])\n",
    "accuracy = sum(preds == y_test_arr) / len(y_test_arr)\n",
    "print(f\"Accuracy (manually calculated) on the Test Set: {accuracy*100:.1f}%\")"
   ]
  },
  {
   "cell_type": "code",
   "execution_count": 15,
   "metadata": {},
   "outputs": [
    {
     "name": "stderr",
     "output_type": "stream",
     "text": [
      "C:\\Users\\s.khanbhai\\AppData\\Local\\Continuum\\anaconda3\\lib\\site-packages\\sklearn\\utils\\validation.py:72: DataConversionWarning: A column-vector y was passed when a 1d array was expected. Please change the shape of y to (n_samples, ), for example using ravel().\n",
      "  return f(**kwargs)\n",
      "C:\\Users\\s.khanbhai\\AppData\\Local\\Continuum\\anaconda3\\lib\\site-packages\\sklearn\\linear_model\\_logistic.py:764: ConvergenceWarning: lbfgs failed to converge (status=1):\n",
      "STOP: TOTAL NO. of ITERATIONS REACHED LIMIT.\n",
      "\n",
      "Increase the number of iterations (max_iter) or scale the data as shown in:\n",
      "    https://scikit-learn.org/stable/modules/preprocessing.html\n",
      "Please also refer to the documentation for alternative solver options:\n",
      "    https://scikit-learn.org/stable/modules/linear_model.html#logistic-regression\n",
      "  extra_warning_msg=_LOGISTIC_SOLVER_CONVERGENCE_MSG)\n"
     ]
    },
    {
     "data": {
      "text/plain": [
       "array([0.093965  , 0.09475715, 0.10064556, ..., 0.15933971, 0.04566567,\n",
       "       0.12022736])"
      ]
     },
     "execution_count": 15,
     "metadata": {},
     "output_type": "execute_result"
    }
   ],
   "source": [
    "LogisticReg = LogisticRegression()\n",
    "LogisticReg.fit(X_train, y_train)\n",
    "pred = LogisticReg.predict(X_test)\n",
    "predProbs = LogisticReg.predict_proba(X_test)[:,1]\n",
    "predProbs"
   ]
  },
  {
   "cell_type": "code",
   "execution_count": 16,
   "metadata": {},
   "outputs": [
    {
     "name": "stdout",
     "output_type": "stream",
     "text": [
      "Accuracy (manually calculated) of Log Reg on the Test Set: 0.0%\n"
     ]
    }
   ],
   "source": [
    "y_test_arr = np.array([x[0] for x in y_test.values])\n",
    "accuracy = sum(predProbs == y_test_arr) / len(y_test_arr)\n",
    "print(f\"Accuracy (manually calculated) of Log Reg on the Test Set: {accuracy*100:.1f}%\")"
   ]
  },
  {
   "cell_type": "code",
   "execution_count": 20,
   "metadata": {},
   "outputs": [
    {
     "data": {
      "text/html": [
       "<div>\n",
       "<style scoped>\n",
       "    .dataframe tbody tr th:only-of-type {\n",
       "        vertical-align: middle;\n",
       "    }\n",
       "\n",
       "    .dataframe tbody tr th {\n",
       "        vertical-align: top;\n",
       "    }\n",
       "\n",
       "    .dataframe thead th {\n",
       "        text-align: right;\n",
       "    }\n",
       "</style>\n",
       "<table border=\"1\" class=\"dataframe\">\n",
       "  <thead>\n",
       "    <tr style=\"text-align: right;\">\n",
       "      <th></th>\n",
       "      <th>Actuals Test</th>\n",
       "      <th>Predicted Test</th>\n",
       "    </tr>\n",
       "  </thead>\n",
       "  <tbody>\n",
       "    <tr>\n",
       "      <th>0</th>\n",
       "      <td>0</td>\n",
       "      <td>0.093965</td>\n",
       "    </tr>\n",
       "    <tr>\n",
       "      <th>1</th>\n",
       "      <td>0</td>\n",
       "      <td>0.094757</td>\n",
       "    </tr>\n",
       "    <tr>\n",
       "      <th>2</th>\n",
       "      <td>0</td>\n",
       "      <td>0.100646</td>\n",
       "    </tr>\n",
       "    <tr>\n",
       "      <th>3</th>\n",
       "      <td>0</td>\n",
       "      <td>0.124088</td>\n",
       "    </tr>\n",
       "    <tr>\n",
       "      <th>4</th>\n",
       "      <td>0</td>\n",
       "      <td>0.104325</td>\n",
       "    </tr>\n",
       "  </tbody>\n",
       "</table>\n",
       "</div>"
      ],
      "text/plain": [
       "  Actuals Test  Predicted Test\n",
       "0            0        0.093965\n",
       "1            0        0.094757\n",
       "2            0        0.100646\n",
       "3            0        0.124088\n",
       "4            0        0.104325"
      ]
     },
     "execution_count": 20,
     "metadata": {},
     "output_type": "execute_result"
    }
   ],
   "source": [
    "data = pd.concat([pd.Series(y_test_arr),pd.Series(predProbs)], axis=1, keys=['Actuals Test', 'Predicted Test'])\n",
    "data['Actuals Test'] = data['Actuals Test'].astype('str')\n",
    "data.head()"
   ]
  },
  {
   "cell_type": "code",
   "execution_count": 27,
   "metadata": {},
   "outputs": [
    {
     "data": {
      "image/png": "[encoded data removed]",
      "text/plain": [
       "<Figure size 1440x576 with 1 Axes>"
      ]
     },
     "metadata": {},
     "output_type": "display_data"
    },
    {
     "data": {
      "image/png": "[encoded data removed]",
      "text/plain": [
       "<Figure size 1440x576 with 1 Axes>"
      ]
     },
     "metadata": {},
     "output_type": "display_data"
    }
   ],
   "source": [
    "f, ax = plt.subplots(figsize=(20,8))\n",
    "\n",
    "#data = pd.concat([pd.Series(y_test_arr),pd.Series(predProbs)], axis=1, keys=['Actuals Test', 'Predicted Test'])\n",
    "\n",
    "#Create the BoxPlot\n",
    "sns.boxplot(x='Predicted Test' , y='Actuals Test', data=data,\n",
    "           whis=[0,100], width=0.6, palette=\"vlag\")\n",
    "\n",
    "# Tweak the visual presentation\n",
    "ax.xaxis.grid(True)\n",
    "ax.set(ylabel=\"\")\n",
    "sns.despine(trim=True, left=True)\n",
    "\n",
    "f, ax = plt.subplots(figsize=(20,8))\n",
    "\n",
    "#data = pd.concat([pd.Series(y_test_arr),pd.Series(predProbs)], axis=1, keys=['Actuals Test', 'Predicted Test'])\n",
    "\n",
    "#Create the BoxPlot\n",
    "sns.violinplot(x='Predicted Test' , y='Actuals Test', data=data,\n",
    "           whis=[0,100], width=0.6, palette=\"vlag\")\n",
    "\n",
    "# Tweak the visual presentation\n",
    "ax.xaxis.grid(True)\n",
    "ax.set(ylabel=\"\")\n",
    "sns.despine(trim=True, left=True)"
   ]
  },
  {
   "cell_type": "markdown",
   "metadata": {},
   "source": [
    "<h1 style=\"font-size:1.5em;\n",
    "           font-family: Calibri\n",
    "           padding: 20px;\n",
    "           margin: 20px;\n",
    "           height: 100px;\n",
    "           line-height: 100px;\n",
    "           align-items: center;\n",
    "           text-align: center;\n",
    "           border: 3px solid #006400;\n",
    "           background-color: #f1f1f1;\n",
    "           \"> Predicting Claim Severity</h1>"
   ]
  },
  {
   "cell_type": "code",
   "execution_count": null,
   "metadata": {},
   "outputs": [],
   "source": [
    "Data.columns"
   ]
  },
  {
   "cell_type": "code",
   "execution_count": null,
   "metadata": {
    "scrolled": true
   },
   "outputs": [],
   "source": [
    "Claims = Data[Data['claim_occur'] == 1]\n",
    "Claims.head()"
   ]
  },
  {
   "cell_type": "code",
   "execution_count": null,
   "metadata": {},
   "outputs": [],
   "source": [
    "median = np.median(Claims.claim_amount)\n",
    "print(\"Median: {:.2f}\".format(median))\n",
    "Claims.claim_amount.describe()"
   ]
  },
  {
   "cell_type": "code",
   "execution_count": null,
   "metadata": {},
   "outputs": [],
   "source": [
    "sns.distplot(Claims.claim_amount);"
   ]
  },
  {
   "cell_type": "markdown",
   "metadata": {},
   "source": [
    "### Results from using Median Claim Amount"
   ]
  },
  {
   "cell_type": "code",
   "execution_count": null,
   "metadata": {},
   "outputs": [],
   "source": [
    "rmse = mean_squared_error(\n",
    "    Claims.claim_amount, \n",
    "    [median for x in range(0,len(Claims))])**0.5\n",
    "print(f\"RMSE here is: {rmse:.2f}\")"
   ]
  },
  {
   "cell_type": "code",
   "execution_count": null,
   "metadata": {
    "scrolled": true
   },
   "outputs": [],
   "source": [
    "r2 = r2_score(Claims.claim_amount,[median for x in range(0,len(Claims))])\n",
    "print(f\"R2 here is: {r2:.2f}\")"
   ]
  },
  {
   "cell_type": "code",
   "execution_count": null,
   "metadata": {},
   "outputs": [],
   "source": [
    "Claims.dtypes"
   ]
  },
  {
   "cell_type": "code",
   "execution_count": null,
   "metadata": {},
   "outputs": [],
   "source": [
    "corrmat = Claims.iloc[:,:-1].corr()\n",
    "f, ax = plt.subplots(figsize=(12,9))\n",
    "sns.heatmap(corrmat, vmax=0.8, square=True)"
   ]
  },
  {
   "cell_type": "code",
   "execution_count": null,
   "metadata": {},
   "outputs": [],
   "source": [
    "Claims_ExcLarge = Claims[Claims['claim_amount']<20000]\n",
    "vars = ['vh_age', 'pol_no_claims_discount','town_surface_area']\n",
    "for var in vars:\n",
    "    df = pd.concat([Claims_ExcLarge['claim_amount'], Claims_ExcLarge[var]], axis=1)\n",
    "    df.plot.scatter(x=var, y='claim_amount')"
   ]
  },
  {
   "cell_type": "code",
   "execution_count": null,
   "metadata": {},
   "outputs": [],
   "source": [
    "cols = ['claim_amount','vh_age', 'pol_no_claims_discount','town_surface_area']\n",
    "sns.pairplot(Claims_ExcLarge[cols], size=4)"
   ]
  },
  {
   "cell_type": "markdown",
   "metadata": {},
   "source": [
    "### Missing Data"
   ]
  },
  {
   "cell_type": "code",
   "execution_count": null,
   "metadata": {},
   "outputs": [],
   "source": [
    "total = Claims_ExcLarge.isnull().sum().sort_values(ascending=False)\n",
    "total = total.apply(lambda x:\"{:,}\".format(x))\n",
    "percent = (Claims_ExcLarge.isnull().sum()/Claims_ExcLarge.isnull().count()).sort_values(ascending=False) \n",
    "percent = percent.apply(lambda x:\"{:.1f}%\".format(x*100))\n",
    "missing_data = pd.concat([total,percent], axis=1, keys=['Total Missing','Percent'])\n",
    "missing_data.head(10)"
   ]
  },
  {
   "cell_type": "code",
   "execution_count": null,
   "metadata": {},
   "outputs": [],
   "source": [
    "X = Claims[['vh_age', 'pol_no_claims_discount','town_surface_area']]\n",
    "y = Claims[['claim_amount']]"
   ]
  },
  {
   "cell_type": "code",
   "execution_count": null,
   "metadata": {},
   "outputs": [],
   "source": [
    "X_train, X_test, y_train, y_test = train_test_split(X,y, test_size = 0.3, random_state=42)"
   ]
  },
  {
   "cell_type": "code",
   "execution_count": null,
   "metadata": {},
   "outputs": [],
   "source": [
    "lr = LinearRegression()\n",
    "\n",
    "lr.fit(X_train, y_train)"
   ]
  },
  {
   "cell_type": "code",
   "execution_count": null,
   "metadata": {},
   "outputs": [],
   "source": [
    "y_pred = lr.predict(X_test)"
   ]
  },
  {
   "cell_type": "code",
   "execution_count": null,
   "metadata": {},
   "outputs": [],
   "source": [
    "lr.coef_"
   ]
  },
  {
   "cell_type": "markdown",
   "metadata": {},
   "source": [
    "### Results from using Regression"
   ]
  },
  {
   "cell_type": "code",
   "execution_count": null,
   "metadata": {},
   "outputs": [],
   "source": [
    "rmse = mean_squared_error(\n",
    "    y_test, \n",
    "    y_pred)**0.5\n",
    "print(f\"RMSE here is: {rmse:.2f}\")"
   ]
  },
  {
   "cell_type": "code",
   "execution_count": null,
   "metadata": {
    "scrolled": true
   },
   "outputs": [],
   "source": [
    "r2 = r2_score(y_test,y_pred)\n",
    "print(f\"R2 here is: {r2:.2f}\")"
   ]
  },
  {
   "cell_type": "code",
   "execution_count": null,
   "metadata": {},
   "outputs": [],
   "source": [
    "y_pred[:4]"
   ]
  },
  {
   "cell_type": "code",
   "execution_count": null,
   "metadata": {},
   "outputs": [],
   "source": [
    "y_test[:4]"
   ]
  },
  {
   "cell_type": "code",
   "execution_count": null,
   "metadata": {},
   "outputs": [],
   "source": [
    "rmse = mean_squared_error(y_train, lr.predict(X_train))**0.5\n",
    "print(f\"RMSE here is: {rmse:.2f}\")"
   ]
  },
  {
   "cell_type": "code",
   "execution_count": null,
   "metadata": {},
   "outputs": [],
   "source": [
    "r2 = r2_score(y_train,lr.predict(X_train))\n",
    "print(f\"R2 here is: {r2:.2f}\")"
   ]
  },
  {
   "cell_type": "markdown",
   "metadata": {},
   "source": [
    "### Showing The Results Graphically"
   ]
  },
  {
   "cell_type": "code",
   "execution_count": null,
   "metadata": {},
   "outputs": [],
   "source": [
    "print(y_test.dtypes)"
   ]
  },
  {
   "cell_type": "code",
   "execution_count": null,
   "metadata": {},
   "outputs": [],
   "source": [
    "plt.figure(figsize=(10,10))\n",
    "y_test_out = [float(y[0]) for y in y_test.values]\n",
    "y_pred_out = [float(y[0]) for y in y_pred]\n",
    "plt.scatter(y_test_out, y_pred_out, color='#DC143C')\n",
    "\n",
    "p1 = max(max(y_test_out),max(y_pred_out))\n",
    "p2 = min(min(y_test_out),min(y_pred_out))\n",
    "plt.plot([p1,p2],[p1,p2], 'b-')\n",
    "\n",
    "plt.xlabel('Actual Claim Values', fontsize=15)\n",
    "plt.ylabel('Predicted Claim Values', fontsize=15)\n",
    "plt.axis('equal')\n",
    "\n",
    "# Limit max value shown in chart to 20,000\n",
    "ax = plt.gca()\n",
    "ax.set_xlim([0,7500])\n",
    "ax.set_ylim([0,7500])\n",
    "\n",
    "plt.show()"
   ]
  },
  {
   "cell_type": "code",
   "execution_count": null,
   "metadata": {},
   "outputs": [],
   "source": []
  },
  {
   "cell_type": "markdown",
   "metadata": {},
   "source": [
    "<h1 style=\"font-size:1.5em;\n",
    "           font-family: Calibri\n",
    "           padding: 20px;\n",
    "           margin: 20px;\n",
    "           height: 100px;\n",
    "           line-height: 100px;\n",
    "           align-items: center;\n",
    "           text-align: center;\n",
    "           border: 3px solid #006400;\n",
    "           background-color: #f1f1f1;\n",
    "           \"> Predicted Frequency x Severity</h1>"
   ]
  },
  {
   "cell_type": "code",
   "execution_count": null,
   "metadata": {},
   "outputs": [],
   "source": []
  }
 ],
 "metadata": {
  "kernelspec": {
   "display_name": "Python 3",
   "language": "python",
   "name": "python3"
  },
  "language_info": {
   "codemirror_mode": {
    "name": "ipython",
    "version": 3
   },
   "file_extension": ".py",
   "mimetype": "text/x-python",
   "name": "python",
   "nbconvert_exporter": "python",
   "pygments_lexer": "ipython3",
   "version": "3.6.3"
  }
 },
 "nbformat": 4,
 "nbformat_minor": 2
}
